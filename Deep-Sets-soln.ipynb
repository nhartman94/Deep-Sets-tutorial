{
 "cells": [
  {
   "cell_type": "markdown",
   "id": "similar-meditation",
   "metadata": {},
   "source": [
    "# Deep Sets Tutorial\n",
    "\n",
    "\n",
    "\n",
    "**Table of Contents:**\n"
   ]
  },
  {
   "cell_type": "code",
   "execution_count": 1,
   "id": "cleared-evanescence",
   "metadata": {},
   "outputs": [],
   "source": [
    "import uproot \n",
    "import awkward as ak\n",
    "\n",
    "import numpy as np\n",
    "import pandas as pd\n",
    "import matplotlib.pyplot as plt\n",
    "\n",
    "import h5py"
   ]
  },
  {
   "cell_type": "code",
   "execution_count": null,
   "id": "danish-collection",
   "metadata": {},
   "outputs": [],
   "source": []
  },
  {
   "cell_type": "code",
   "execution_count": null,
   "id": "agricultural-universal",
   "metadata": {},
   "outputs": [],
   "source": []
  },
  {
   "cell_type": "markdown",
   "id": "ideal-closing",
   "metadata": {},
   "source": [
    "**Step 0:** Download the dataset\n",
    "\n",
    "For this tutorial, we'll be using \n",
    "\n"
   ]
  },
  {
   "cell_type": "code",
   "execution_count": null,
   "id": "limited-participation",
   "metadata": {},
   "outputs": [],
   "source": []
  },
  {
   "cell_type": "code",
   "execution_count": null,
   "id": "apparent-sucking",
   "metadata": {},
   "outputs": [],
   "source": []
  },
  {
   "cell_type": "code",
   "execution_count": null,
   "id": "final-writer",
   "metadata": {},
   "outputs": [],
   "source": []
  },
  {
   "cell_type": "code",
   "execution_count": 2,
   "id": "impaired-savannah",
   "metadata": {},
   "outputs": [],
   "source": [
    "# nMax = int(jdf['n_trks'].max())\n",
    "# r = (-0.5,nMax+.5)\n",
    "\n",
    "# for i,l in zip([0,4,5],['l','c','b']):\n",
    "    \n",
    "#     mask = (jdf.jet_flav == i)\n",
    "    \n",
    "#     plt.hist(jdf.loc[mask,'n_trks'],nMax+1,r,\n",
    "#              histtype='step',lw=2,label=f'{l}-jets')\n",
    "    \n",
    "# plt.xlabel('# of tracks')\n",
    "# plt.ylabel('Entries')\n",
    "# plt.xlim(r)\n",
    "# plt.legend()\n",
    "# plt.show()"
   ]
  },
  {
   "cell_type": "code",
   "execution_count": 3,
   "id": "skilled-weekend",
   "metadata": {},
   "outputs": [],
   "source": [
    "# nbins = 50\n",
    "# r=(-1,1)\n",
    "\n",
    "# for i,l in zip([0,4,5],['l','c','b']):\n",
    "    \n",
    "#     mask = (jdf.jet_flav == i)\n",
    "    \n",
    "    \n",
    "#     '''\n",
    "#     To load in the tracks corresponding to this jet flavor,\n",
    "#     need to pass the df indices for this jet - as shown below\n",
    "#     '''\n",
    "#     mask_vals = mask[mask].index\n",
    "\n",
    "    \n",
    "#     plt.hist(tdf.loc[mask_vals,'trk_d0'].values.flatten(),\n",
    "#              nbins,r, histtype='step',lw=2,label=f'{l}-jets')\n",
    "    \n",
    "# plt.xlabel('trk_d0')\n",
    "# plt.ylabel('Entries')\n",
    "# plt.xlim(r)\n",
    "# plt.legend()\n",
    "# plt.show()"
   ]
  },
  {
   "cell_type": "markdown",
   "id": "divided-holocaust",
   "metadata": {},
   "source": [
    "**Preprocessing**\n",
    "- ak.mean\n",
    "- ak.std"
   ]
  },
  {
   "cell_type": "markdown",
   "id": "mental-native",
   "metadata": {},
   "source": [
    "<span style=\"color:red\"> **Question:** </span> What is a good pre-processig for the variables dR + pT_frac ?"
   ]
  },
  {
   "cell_type": "markdown",
   "id": "incoming-accreditation",
   "metadata": {},
   "source": [
    "**Step 1:** Load in a preprocessed dataset\n",
    "\n",
    "\n",
    "I think it would be fun to walk through some of the preprocessing shennanigans - but maybe not strictly necessary."
   ]
  },
  {
   "cell_type": "code",
   "execution_count": 4,
   "id": "labeled-grill",
   "metadata": {},
   "outputs": [],
   "source": [
    "fDir = '../RNNIP/data/mc16d_PFlow_BTagging201903_ttbar_pt_500_d0_3.5_z0_5'"
   ]
  },
  {
   "cell_type": "code",
   "execution_count": 5,
   "id": "after-exception",
   "metadata": {},
   "outputs": [],
   "source": [
    "nJets = '3m' #'400k'\n",
    "\n",
    "jname = f'{fDir}/jet_{nJets}train_25trks_sd0_rev.h5'\n",
    "tname = f'{fDir}/trk_{nJets}train_25trks_sd0_rev.nc'\n",
    "dname = f'{fDir}/data_{nJets}train_25trks_sd0_sz0_nNextToInnHits_nInnHits_nsharedBLHits_nsplitBLHits_nsharedPixHits_nsplitPixHits_nsharedSCTHits_logNorm_ptfrac_dr_norm_nPixHits_nSCTHits_ip3d_d0_ip3d_z0_sd0_rev.hdf5'"
   ]
  },
  {
   "cell_type": "code",
   "execution_count": 6,
   "id": "cubic-playing",
   "metadata": {},
   "outputs": [],
   "source": [
    "f = h5py.File(dname,\"r\")\n",
    "\n",
    "X_train       = f['X_train'][:]\n",
    "y_train       = f['y_train'][:]\n",
    "ix_train      = f['ix_train'][:]\n",
    "weights_train = f['weights_train'][:]\n"
   ]
  },
  {
   "cell_type": "markdown",
   "id": "d76bc7ed-f624-46a9-8884-d0fb46230e6c",
   "metadata": {},
   "source": [
    "**Category definitions:** The y vector is the truth label for the jet:\n",
    "- <span style=\"color:royalblue\"> 0: light-jet </span>. \n",
    "- <span style=\"color:orange\"> 1: c-jet </span>.\n",
    "- <span style=\"color:limegreen\"> 2: b-jet </span>\n",
    "- <span style=\"color:crimson\"> 3: $\\tau$-jet </span> - but we'll remove these from the training set"
   ]
  },
  {
   "cell_type": "code",
   "execution_count": 7,
   "id": "f4930822-b4da-47ec-abe4-16b3d319a414",
   "metadata": {},
   "outputs": [],
   "source": [
    "nClasses = 3 # Only consider l, c, and b-jets"
   ]
  },
  {
   "cell_type": "code",
   "execution_count": 8,
   "id": "f6eb0ec2-2632-4d1d-8391-384f168539d4",
   "metadata": {},
   "outputs": [],
   "source": [
    "from keras.utils.np_utils import to_categorical\n",
    "\n",
    "if y_train.max() >= nClasses:\n",
    "\n",
    "    valid_targets = (y_train < nClasses)\n",
    "\n",
    "    X_train       = X_train[valid_targets]\n",
    "    y_train       = y_train[valid_targets]\n",
    "    ix_train      = ix_train[valid_targets]\n",
    "    weights_train = weights_train[valid_targets]\n",
    "\n",
    "    y_train_cat = to_categorical(y_train, num_classes=nClasses)"
   ]
  },
  {
   "cell_type": "code",
   "execution_count": 9,
   "id": "particular-ghost",
   "metadata": {},
   "outputs": [
    {
     "data": {
      "text/plain": [
       "(2865138, 25, 15)"
      ]
     },
     "execution_count": 9,
     "metadata": {},
     "output_type": "execute_result"
    }
   ],
   "source": [
    "X_train.shape"
   ]
  },
  {
   "cell_type": "code",
   "execution_count": null,
   "id": "banner-radical",
   "metadata": {},
   "outputs": [],
   "source": []
  },
  {
   "cell_type": "markdown",
   "id": "ready-heath",
   "metadata": {},
   "source": [
    "**Step 2:** Set up a Deep Sets architecture"
   ]
  },
  {
   "cell_type": "code",
   "execution_count": 10,
   "id": "liked-principle",
   "metadata": {},
   "outputs": [],
   "source": [
    "import os\n",
    "\n",
    "from keras.layers import BatchNormalization, Layer, TimeDistributed, Dropout\n",
    "from keras.layers import Dense, Input, ReLU, Masking, LSTM\n",
    "from keras.models import Model\n",
    "#from keras.optimizers import Adam\n",
    "\n",
    "from keras.callbacks import EarlyStopping, ModelCheckpoint\n",
    "\n",
    "from keras import backend as K\n",
    "#from plottingFunctions import sigBkgEff\n",
    "\n",
    "# Some magic so that the notebook will reload external python modules\n",
    "%load_ext autoreload\n",
    "%autoreload 2"
   ]
  },
  {
   "cell_type": "markdown",
   "id": "solved-springer",
   "metadata": {},
   "source": [
    " For the most part, Keras is very modular and lets you stack the common layers that you care just like legos to build a custom architecture, and these are the layers that are loaded above.For the Deep-Sets model, we just needed a custom layer to implement this sum over tracks. The only custom layer that we needed was a Sum layer, which is in the block below."
   ]
  },
  {
   "cell_type": "code",
   "execution_count": 75,
   "id": "useful-preservation",
   "metadata": {},
   "outputs": [],
   "source": [
    "# Store the dimensions of the input dataset for setting up the model\n",
    "nJets, maxNumTrks, nFeatures = X_train.shape"
   ]
  },
  {
   "cell_type": "markdown",
   "id": "handled-anniversary",
   "metadata": {},
   "source": [
    "**Set up the model skeleton** \n",
    "\n",
    "The model parameters are set as variables to be easy to train in the tutorial.\n",
    "\n",
    "- ppm_sizes_int: A list defining the size for each of the dense layers of the per particle network Φ\n",
    "- dense_sizes_int: A list defining the size for each of the dense layers of the per particle network F"
   ]
  },
  {
   "cell_type": "code",
   "execution_count": null,
   "id": "visible-national",
   "metadata": {},
   "outputs": [],
   "source": []
  },
  {
   "cell_type": "code",
   "execution_count": 12,
   "id": "closing-sequence",
   "metadata": {},
   "outputs": [],
   "source": [
    "class Sum(Layer):\n",
    "    \"\"\"\n",
    "    Simple sum layer.\n",
    "    The tricky bits are getting masking to work properly, but given\n",
    "    that time distributed dense layers _should_ compute masking on their\n",
    "    own.\n",
    "\n",
    "    Author: Dan Guest\n",
    "    https://github.com/dguest/flow-network/blob/master/SumLayer.py\n",
    "\n",
    "    \"\"\"\n",
    "\n",
    "    def __init__(self, **kwargs):\n",
    "        super().__init__(**kwargs)\n",
    "        self.supports_masking = True\n",
    "\n",
    "    def build(self, input_shape):\n",
    "        pass\n",
    "\n",
    "    def call(self, x, mask=None):\n",
    "        if mask is not None:\n",
    "            x = x * K.cast(mask, K.dtype(x))[:,:,None]\n",
    "        return K.sum(x, axis=1)\n",
    "\n",
    "    def compute_output_shape(self, input_shape):\n",
    "        return input_shape[0], input_shape[2]\n",
    "\n",
    "    def compute_mask(self, inputs, mask):\n",
    "        return None"
   ]
  },
  {
   "cell_type": "markdown",
   "id": "divine-medium",
   "metadata": {},
   "source": [
    "**TO DO:** Include a picture of an architecture and _ask_ them to implement it!"
   ]
  },
  {
   "cell_type": "code",
   "execution_count": null,
   "id": "special-forum",
   "metadata": {},
   "outputs": [],
   "source": []
  },
  {
   "cell_type": "code",
   "execution_count": 13,
   "id": "bright-things",
   "metadata": {},
   "outputs": [],
   "source": [
    "ppm_sizes_int = [50,50,25]\n",
    "dense_sizes_int = [50,50]"
   ]
  },
  {
   "cell_type": "code",
   "execution_count": 14,
   "id": "distant-classroom",
   "metadata": {},
   "outputs": [],
   "source": [
    "trk_inputs = Input(shape=(maxNumTrks,nFeatures))\n",
    "masked_inputs = Masking(mask_value=0)(trk_inputs)\n",
    "tdd = masked_inputs\n",
    "\n",
    "for i, phi_nodes in enumerate(ppm_sizes_int):\n",
    "\n",
    "    tdd = TimeDistributed(Dense(phi_nodes,activation='linear'),name=\"Phi{}_Dense\".format(i))(tdd)\n",
    "    tdd = TimeDistributed(ReLU(),name=\"Phi{}_ReLU\".format(i))(tdd)\n",
    "\n",
    "# This is where the magic happens... sum up the track features!\n",
    "F = Sum(name=\"Sum\")(tdd)\n",
    "\n",
    "for j, F_nodes in enumerate(dense_sizes_int):\n",
    "\n",
    "    F = Dense(F_nodes, activation='linear', name=\"F{}_Dense\".format(j))(F)\n",
    "    F = ReLU(name=\"F{}_ReLU\".format(j))(F)\n",
    "\n",
    "output = Dense(nClasses, activation='softmax',name=\"Jet_class\")(F)\n",
    "dips = Model(inputs=trk_inputs, outputs=output)"
   ]
  },
  {
   "cell_type": "markdown",
   "id": "removed-logistics",
   "metadata": {},
   "source": [
    "As a sanitry check, you can check the structure of the model."
   ]
  },
  {
   "cell_type": "code",
   "execution_count": 15,
   "id": "hairy-racing",
   "metadata": {},
   "outputs": [
    {
     "name": "stdout",
     "output_type": "stream",
     "text": [
      "Model: \"model\"\n",
      "_________________________________________________________________\n",
      "Layer (type)                 Output Shape              Param #   \n",
      "=================================================================\n",
      "input_1 (InputLayer)         [(None, 25, 15)]          0         \n",
      "_________________________________________________________________\n",
      "masking (Masking)            (None, 25, 15)            0         \n",
      "_________________________________________________________________\n",
      "Phi0_Dense (TimeDistributed) (None, 25, 50)            800       \n",
      "_________________________________________________________________\n",
      "Phi0_ReLU (TimeDistributed)  (None, 25, 50)            0         \n",
      "_________________________________________________________________\n",
      "Phi1_Dense (TimeDistributed) (None, 25, 50)            2550      \n",
      "_________________________________________________________________\n",
      "Phi1_ReLU (TimeDistributed)  (None, 25, 50)            0         \n",
      "_________________________________________________________________\n",
      "Phi2_Dense (TimeDistributed) (None, 25, 25)            1275      \n",
      "_________________________________________________________________\n",
      "Phi2_ReLU (TimeDistributed)  (None, 25, 25)            0         \n",
      "_________________________________________________________________\n",
      "Sum (Sum)                    (None, 25)                0         \n",
      "_________________________________________________________________\n",
      "F0_Dense (Dense)             (None, 50)                1300      \n",
      "_________________________________________________________________\n",
      "F0_ReLU (ReLU)               (None, 50)                0         \n",
      "_________________________________________________________________\n",
      "F1_Dense (Dense)             (None, 50)                2550      \n",
      "_________________________________________________________________\n",
      "F1_ReLU (ReLU)               (None, 50)                0         \n",
      "_________________________________________________________________\n",
      "Jet_class (Dense)            (None, 3)                 153       \n",
      "=================================================================\n",
      "Total params: 8,628\n",
      "Trainable params: 8,628\n",
      "Non-trainable params: 0\n",
      "_________________________________________________________________\n"
     ]
    }
   ],
   "source": [
    "dips.summary() "
   ]
  },
  {
   "cell_type": "markdown",
   "id": "opened-source",
   "metadata": {},
   "source": [
    "To train the model, you need to define what you mean by a model performing better or worse, which we quantify by a loss function. For multi-class classification, we use the categorical cross-entropy, which maximizes the node corresponding to the true label of the jet.You also need a strategy for updating the weights as you minimize the loss, which is inside the optimizer. There are many different optimization strategies on the market and available in Keras, but the optimizer adam is often a good one to start with since it provides a way to decrease the weight update as you converge onto a solution.This is what is done in the \"compile\" function below."
   ]
  },
  {
   "cell_type": "code",
   "execution_count": 16,
   "id": "everyday-absence",
   "metadata": {},
   "outputs": [],
   "source": [
    "dips.compile(loss='categorical_crossentropy', optimizer='adam',\n",
    "             metrics=['acc'])  "
   ]
  },
  {
   "cell_type": "markdown",
   "id": "assigned-municipality",
   "metadata": {},
   "source": [
    "**Warm up Q:** _Before training_ the model, what do you think the accuracy will be?\n",
    "\n",
    "\n",
    "- A.   0% \n",
    "- B.   33%\n",
    "- C.   50%\n",
    "- D.   100%"
   ]
  },
  {
   "cell_type": "markdown",
   "id": "liable-thousand",
   "metadata": {},
   "source": [
    "**Test your answer above:** "
   ]
  },
  {
   "cell_type": "code",
   "execution_count": 17,
   "id": "welsh-village",
   "metadata": {},
   "outputs": [
    {
     "name": "stdout",
     "output_type": "stream",
     "text": [
      "22384/22384 [==============================] - 42s 2ms/step - loss: 2.0770 - acc: 0.3611\n"
     ]
    },
    {
     "data": {
      "text/plain": [
       "[2.076963424682617, 0.3610635995864868]"
      ]
     },
     "execution_count": 17,
     "metadata": {},
     "output_type": "execute_result"
    }
   ],
   "source": [
    "dips.evaluate(X_train,y_train_cat,batch_size=128)"
   ]
  },
  {
   "cell_type": "markdown",
   "id": "superior-shore",
   "metadata": {},
   "source": [
    "The second number above is the accuracy, which is close to 1/3, since before training the model is just guessing among the three outputs.The first number is the loss, which gets minimized in the training."
   ]
  },
  {
   "cell_type": "code",
   "execution_count": null,
   "id": "threatened-smart",
   "metadata": {},
   "outputs": [],
   "source": []
  },
  {
   "cell_type": "markdown",
   "id": "passive-yacht",
   "metadata": {},
   "source": [
    "**Training details**\n",
    "\n",
    "When training a model, how do you decide how long to go for? When training NNs, you look at your training dataset multiple times as you converge to a solution. A single pass over the training dataset is called an epoch.\n",
    "\n",
    "The model nEpochs is set at 5 right now and is a variable for the maximimum number of epochs, but in practice, it's common to set this value to something larger, and use the loss on a separate validation dataset to decide when to stop training. This is set up in the EarlyStopping callback which says to stop training when the loss on the validation dataset (val_loss) has not improved in 10 epochs.\n",
    "\n",
    "Then the ModelCheckpoint below saves the name for the model weights file you're using."
   ]
  },
  {
   "cell_type": "code",
   "execution_count": null,
   "id": "visible-musical",
   "metadata": {},
   "outputs": [],
   "source": []
  },
  {
   "cell_type": "code",
   "execution_count": 18,
   "id": "ahead-clerk",
   "metadata": {},
   "outputs": [],
   "source": [
    "nEpochs = 5\n",
    "\n",
    "earlyStop = EarlyStopping(monitor='val_loss', verbose=True, patience=10)\n",
    "\n",
    "dips_mChkPt = ModelCheckpoint('dips_weights.h5',\n",
    "                              monitor='val_loss', \n",
    "                              verbose=True,\n",
    "                              save_best_only=True,\n",
    "                              save_weights_only=True)"
   ]
  },
  {
   "cell_type": "code",
   "execution_count": 19,
   "id": "837e9cbe-c289-4e01-9304-e4f0fbb2988c",
   "metadata": {},
   "outputs": [],
   "source": [
    "nTrain = int(5e5)"
   ]
  },
  {
   "cell_type": "code",
   "execution_count": 20,
   "id": "trying-billy",
   "metadata": {},
   "outputs": [
    {
     "name": "stdout",
     "output_type": "stream",
     "text": [
      "Epoch 1/5\n",
      "3125/3125 [==============================] - 9s 3ms/step - loss: 0.4978 - acc: 0.8288 - val_loss: 0.4696 - val_acc: 0.8376\n",
      "\n",
      "Epoch 00001: val_loss improved from inf to 0.46955, saving model to dips_weights.h5\n",
      "Epoch 2/5\n",
      "3125/3125 [==============================] - 9s 3ms/step - loss: 0.4660 - acc: 0.8383 - val_loss: 0.4599 - val_acc: 0.8400\n",
      "\n",
      "Epoch 00002: val_loss improved from 0.46955 to 0.45988, saving model to dips_weights.h5\n",
      "Epoch 3/5\n",
      "3125/3125 [==============================] - 9s 3ms/step - loss: 0.4591 - acc: 0.8406 - val_loss: 0.4558 - val_acc: 0.8418\n",
      "\n",
      "Epoch 00003: val_loss improved from 0.45988 to 0.45578, saving model to dips_weights.h5\n",
      "Epoch 4/5\n",
      "3125/3125 [==============================] - 9s 3ms/step - loss: 0.4555 - acc: 0.8417 - val_loss: 0.4545 - val_acc: 0.8424\n",
      "\n",
      "Epoch 00004: val_loss improved from 0.45578 to 0.45448, saving model to dips_weights.h5\n",
      "Epoch 5/5\n",
      "3125/3125 [==============================] - 9s 3ms/step - loss: 0.4528 - acc: 0.8425 - val_loss: 0.4543 - val_acc: 0.8423\n",
      "\n",
      "Epoch 00005: val_loss improved from 0.45448 to 0.45426, saving model to dips_weights.h5\n"
     ]
    }
   ],
   "source": [
    "dips_hist = dips.fit(X_train[:nTrain], y_train_cat[:nTrain], epochs=nEpochs, \n",
    "                     batch_size=128,validation_split=0.2,\n",
    "                     callbacks=[earlyStop, dips_mChkPt])"
   ]
  },
  {
   "cell_type": "code",
   "execution_count": 35,
   "id": "obvious-seafood",
   "metadata": {},
   "outputs": [
    {
     "data": {
      "image/png": "[encoded data removed]",
      "text/plain": [
       "<Figure size 432x288 with 1 Axes>"
      ]
     },
     "metadata": {
      "needs_background": "light"
     },
     "output_type": "display_data"
    }
   ],
   "source": [
    "epochs = np.arange(1,len(dips_hist.history['loss'])+1)\n",
    "\n",
    "plt.plot(epochs,dips_hist.history['loss'],color='C4',label='training')\n",
    "plt.plot(epochs,dips_hist.history['val_loss'],color='C4',label='validation',ls='--')\n",
    "plt.xlabel('epochs',fontsize=14)\n",
    "plt.ylabel('cross-entropy loss',fontsize=14)\n",
    "plt.legend()\n",
    "plt.title('DIPS')\n",
    "\n",
    "plt.show()"
   ]
  },
  {
   "cell_type": "markdown",
   "id": "female-deviation",
   "metadata": {},
   "source": [
    "Since we're training w/ only 500k jets, we're overfitting right now, which is why the validation loss is not improving even though the training loss is."
   ]
  },
  {
   "cell_type": "code",
   "execution_count": null,
   "id": "north-insulin",
   "metadata": {},
   "outputs": [],
   "source": []
  },
  {
   "cell_type": "code",
   "execution_count": null,
   "id": "weighted-agency",
   "metadata": {},
   "outputs": [],
   "source": []
  },
  {
   "cell_type": "markdown",
   "id": "commercial-microphone",
   "metadata": {},
   "source": [
    "**Evaluate the results with a roc curve**"
   ]
  },
  {
   "cell_type": "code",
   "execution_count": null,
   "id": "ef9cba24-6d75-4a1c-8a5e-4d71a743f04b",
   "metadata": {},
   "outputs": [],
   "source": []
  },
  {
   "cell_type": "code",
   "execution_count": null,
   "id": "4ca1abdb-893a-4356-b961-ad6dd70a9b7a",
   "metadata": {},
   "outputs": [],
   "source": []
  },
  {
   "cell_type": "code",
   "execution_count": 45,
   "id": "8be2cab1-4ff2-4424-aa39-03ce5148bd94",
   "metadata": {},
   "outputs": [],
   "source": [
    "def sigBkgEff(myModel, X_test, y_test, returnDisc=False, fc=0.07, title=''):\n",
    "\n",
    "    '''\n",
    "    Given a model, make the histograms of the model outputs to get the ROC curves.\n",
    "\n",
    "    Input:\n",
    "        myModel: A keras model\n",
    "        X_test: Model inputs of the test set\n",
    "        y_test: Truth labels for the test set\n",
    "        returnDisc: If True, also return the raw discriminant \n",
    "        fc: The amount by which to weight the c-jet prob in the disc. The\n",
    "            default value of 0.07 corresponds to the fraction of c-jet bkg\n",
    "            in ttbar.\n",
    "\n",
    "    Output:\n",
    "        effs: A list with 3 entries for the l, c, and b effs\n",
    "        disc: b-tagging discriminant (will only be returned if returnDisc is True)\n",
    "    '''\n",
    "\n",
    "    # Evaluate the performance with the ROC curves!\n",
    "    predictions = myModel.predict(X_test,verbose=True)\n",
    "\n",
    "    # To make sure you're not discarding the b-values with high\n",
    "    # discriminant values that you're good at classifying, use the\n",
    "    # max from the distribution\n",
    "    disc = np.log(np.divide(predictions[:,2], fc*predictions[:,1] + (1 - fc) * predictions[:,0]))\n",
    "    \n",
    "    '''\n",
    "    Note: For jets w/o any tracks\n",
    "    '''\n",
    "    \n",
    "    discMax = np.max(disc)\n",
    "    discMin = np.min(disc)\n",
    "    \n",
    "    myRange=(discMin,discMax)\n",
    "    nBins = 200\n",
    "\n",
    "    effs = []\n",
    "    for output, flavor in zip([0,1,2], ['l','c','b']):\n",
    "\n",
    "        ix = (y_test == output)\n",
    "        \n",
    "        # Plot the discriminant output\n",
    "        nEntries, edges ,_ = plt.hist(disc[ix],alpha=0.5,label='{}-jets'.format(flavor),\n",
    "                                      bins=nBins, range=myRange, density=True, log=True)\n",
    "        \n",
    "        #nEntries, edges = np.histogram(disc[ix], nBins, myRange, density=True)\n",
    "\n",
    "        '''\n",
    "        nEntries is just a sum of the weight of each bin in the histogram.\n",
    "        \n",
    "        Since high Db scores correspond to more b-like jets, compute the cummulative density function\n",
    "        from summing from high to low values, this is why we reverse the order of the bins in nEntries\n",
    "        using the \"::-1\" numpy indexing.\n",
    "        '''\n",
    "        eff = np.add.accumulate(nEntries[::-1]) / np.sum(nEntries)\n",
    "        effs.append(eff)\n",
    "\n",
    "    plt.title(title)\n",
    "    plt.legend()\n",
    "    plt.xlabel('$D = \\ln [ p_b / (f_c p_c + (1- f_c)p_l ) ]$',fontsize=14)\n",
    "    plt.ylabel('Normalized entries')\n",
    "        \n",
    "    if returnDisc:\n",
    "        return effs, disc\n",
    "    else:\n",
    "        return effs\n"
   ]
  },
  {
   "cell_type": "code",
   "execution_count": 23,
   "id": "986a143f-f8b5-4a15-b361-0fc30dd1bad4",
   "metadata": {},
   "outputs": [],
   "source": [
    "# To draw the roc curves faster, look at a subset of the test dataset. \n",
    "nTest = 1000000\n",
    "\n",
    "X_test = f['X_train'][:]\n",
    "y_test = f['y_train'][:]"
   ]
  },
  {
   "cell_type": "code",
   "execution_count": 24,
   "id": "organic-bibliography",
   "metadata": {},
   "outputs": [
    {
     "name": "stdout",
     "output_type": "stream",
     "text": [
      "31250/31250 [==============================] - 23s 738us/step\n"
     ]
    },
    {
     "data": {
      "image/png": "[encoded data removed]",
      "text/plain": [
       "<Figure size 432x288 with 1 Axes>"
      ]
     },
     "metadata": {
      "needs_background": "light"
     },
     "output_type": "display_data"
    }
   ],
   "source": [
    "(leff, ceff, beff), d = sigBkgEff(dips, X_test[:nTest], y_test[:nTest], returnDisc=True)"
   ]
  },
  {
   "cell_type": "code",
   "execution_count": 28,
   "id": "emerging-ivory",
   "metadata": {},
   "outputs": [
    {
     "name": "stderr",
     "output_type": "stream",
     "text": [
      "<ipython-input-28-12c6d3f92fbe>:3: RuntimeWarning: divide by zero encountered in true_divide\n",
      "  plt.plot(beff, 1 / leff, color='C4', label='dips: l-rej')\n",
      "<ipython-input-28-12c6d3f92fbe>:6: RuntimeWarning: divide by zero encountered in true_divide\n",
      "  plt.plot(beff, 1 / ceff, color='C4', linestyle='--', label='dips: c-rej')\n",
      "<ipython-input-28-12c6d3f92fbe>:14: UserWarning: Attempted to set non-positive bottom ylim on a log-scaled axis.\n",
      "Invalid limit will be ignored.\n",
      "  plt.ylim(0,int(2e3))\n"
     ]
    },
    {
     "data": {
      "image/png": "[encoded data removed]",
      "text/plain": [
       "<Figure size 432x288 with 1 Axes>"
      ]
     },
     "metadata": {
      "needs_background": "light"
     },
     "output_type": "display_data"
    }
   ],
   "source": [
    "# l-rej\n",
    "plt.figure()\n",
    "plt.plot(beff, 1 / leff, color='C4', label='dips: l-rej')\n",
    "\n",
    "# c-rej\n",
    "plt.plot(beff, 1 / ceff, color='C4', linestyle='--', label='dips: c-rej')\n",
    "plt.xlabel('b efficiency')\n",
    "plt.ylabel('Background rejection')\n",
    "\n",
    "plt.legend()\n",
    "#plt.title(title)\n",
    "plt.yscale(\"log\")\n",
    "plt.xlim(0.6,1)\n",
    "plt.ylim(0,int(2e3))\n",
    "\n",
    "plt.show()"
   ]
  },
  {
   "cell_type": "code",
   "execution_count": null,
   "id": "interested-threshold",
   "metadata": {},
   "outputs": [],
   "source": []
  },
  {
   "cell_type": "code",
   "execution_count": null,
   "id": "5bb5c47f-380f-423d-9e94-a4efccded9ea",
   "metadata": {},
   "outputs": [],
   "source": []
  },
  {
   "cell_type": "code",
   "execution_count": null,
   "id": "exciting-redhead",
   "metadata": {},
   "outputs": [],
   "source": []
  },
  {
   "cell_type": "markdown",
   "id": "enabling-pepper",
   "metadata": {},
   "source": [
    "**Step 3:** Test out batch norm\n",
    "\n",
    "\n",
    "- batch_norm: Whether or not to use BatchNormalization, a regularization tecnique for deep models. The key idea is that it's easier for models to train if the input are bell shaped and centered around 0 to take advantage of the non-linearity. This is why we normalize the inputs in the pre-processing, and the Batch-Normalization is a technique which normalized the outputs from a network layer so that the next layer has nicely scaled inputs for the training. "
   ]
  },
  {
   "cell_type": "code",
   "execution_count": null,
   "id": "legendary-hands",
   "metadata": {},
   "outputs": [],
   "source": []
  },
  {
   "cell_type": "code",
   "execution_count": null,
   "id": "3c388630-17f9-455b-b802-862d9a8cb416",
   "metadata": {},
   "outputs": [],
   "source": []
  },
  {
   "cell_type": "code",
   "execution_count": null,
   "id": "moral-ocean",
   "metadata": {},
   "outputs": [],
   "source": []
  },
  {
   "cell_type": "code",
   "execution_count": null,
   "id": "accessory-bracelet",
   "metadata": {},
   "outputs": [],
   "source": []
  },
  {
   "cell_type": "markdown",
   "id": "fifteen-temperature",
   "metadata": {},
   "source": [
    "**Step 4:** Test out other permutation invariant operations\n",
    "\n",
    "- max\n",
    "- mean"
   ]
  },
  {
   "cell_type": "code",
   "execution_count": 30,
   "id": "secondary-emergency",
   "metadata": {},
   "outputs": [],
   "source": [
    "class Max(Layer):\n",
    "    def __init__(self, **kwargs):\n",
    "        super().__init__(**kwargs)\n",
    "        self.supports_masking = True\n",
    "\n",
    "    def build(self, input_shape):\n",
    "        pass\n",
    "\n",
    "    def call(self, x, mask=None):\n",
    "        if mask is not None:\n",
    "            x = x * K.cast(mask, K.dtype(x))[:,:,None]\n",
    "        return K.max(x, axis=1)\n",
    "\n",
    "    def compute_output_shape(self, input_shape):\n",
    "        return input_shape[0], input_shape[2]\n",
    "\n",
    "    def compute_mask(self, inputs, mask):\n",
    "        return None"
   ]
  },
  {
   "cell_type": "code",
   "execution_count": 31,
   "id": "round-display",
   "metadata": {},
   "outputs": [],
   "source": [
    "class Mean(Layer):\n",
    "    def __init__(self, **kwargs):\n",
    "        super().__init__(**kwargs)\n",
    "        self.supports_masking = True\n",
    "\n",
    "    def build(self, input_shape):\n",
    "        pass\n",
    "\n",
    "    def call(self, x, mask=None):\n",
    "        if mask is not None:\n",
    "            x = x * K.cast(mask, K.dtype(x))[:,:,None]\n",
    "        return K.mean(x, axis=1)\n",
    "\n",
    "    def compute_output_shape(self, input_shape):\n",
    "        return input_shape[0], input_shape[2]\n",
    "\n",
    "    def compute_mask(self, inputs, mask):\n",
    "        return None"
   ]
  },
  {
   "cell_type": "code",
   "execution_count": 33,
   "id": "premier-administration",
   "metadata": {},
   "outputs": [],
   "source": [
    "trk_inputs = Input(shape=(maxNumTrks,nFeatures))\n",
    "masked_inputs = Masking(mask_value=0)(trk_inputs)\n",
    "tdd = masked_inputs\n",
    "\n",
    "for i, phi_nodes in enumerate(ppm_sizes_int):\n",
    "\n",
    "    tdd = TimeDistributed(Dense(phi_nodes,activation='linear'),name=\"Phi{}_Dense\".format(i))(tdd)\n",
    "    tdd = TimeDistributed(ReLU(),name=\"Phi{}_ReLU\".format(i))(tdd)\n",
    "\n",
    "# This is where the magic happens... sum up the track features!\n",
    "F = Max(name=\"Max\")(tdd)\n",
    "\n",
    "for j, F_nodes in enumerate(dense_sizes_int):\n",
    "\n",
    "    F = Dense(F_nodes, activation='linear', name=\"F{}_Dense\".format(j))(F)\n",
    "    F = ReLU(name=\"F{}_ReLU\".format(j))(F)\n",
    "\n",
    "output = Dense(nClasses, activation='softmax',name=\"Jet_class\")(F)\n",
    "dips_max = Model(inputs=trk_inputs, outputs=output)"
   ]
  },
  {
   "cell_type": "code",
   "execution_count": 37,
   "id": "d78ceed0-757a-4f7d-a489-db6cb3575038",
   "metadata": {},
   "outputs": [
    {
     "name": "stdout",
     "output_type": "stream",
     "text": [
      "Epoch 1/5\n",
      "3125/3125 [==============================] - 10s 3ms/step - loss: 0.5040 - acc: 0.8267 - val_loss: 0.4823 - val_acc: 0.8334\n",
      "\n",
      "Epoch 00001: val_loss did not improve from 0.45426\n",
      "Epoch 2/5\n",
      "3125/3125 [==============================] - 9s 3ms/step - loss: 0.4754 - acc: 0.8353 - val_loss: 0.4711 - val_acc: 0.8376\n",
      "\n",
      "Epoch 00002: val_loss did not improve from 0.45426\n",
      "Epoch 3/5\n",
      "3125/3125 [==============================] - 9s 3ms/step - loss: 0.4683 - acc: 0.8379 - val_loss: 0.4730 - val_acc: 0.8366\n",
      "\n",
      "Epoch 00003: val_loss did not improve from 0.45426\n",
      "Epoch 4/5\n",
      "3125/3125 [==============================] - 9s 3ms/step - loss: 0.4642 - acc: 0.8389 - val_loss: 0.4649 - val_acc: 0.8387\n",
      "\n",
      "Epoch 00004: val_loss did not improve from 0.45426\n",
      "Epoch 5/5\n",
      "3125/3125 [==============================] - 9s 3ms/step - loss: 0.4619 - acc: 0.8395 - val_loss: 0.4638 - val_acc: 0.8390\n",
      "\n",
      "Epoch 00005: val_loss did not improve from 0.45426\n"
     ]
    }
   ],
   "source": [
    "dips_max.compile(loss='categorical_crossentropy', optimizer='adam',\n",
    "                 metrics=['acc'])  \n",
    "\n",
    "dips_hist_max = dips_max.fit(X_train[:nTrain], y_train_cat[:nTrain], epochs=nEpochs, \n",
    "                         batch_size=128,validation_split=0.2,\n",
    "                         callbacks=[earlyStop, dips_mChkPt])"
   ]
  },
  {
   "cell_type": "code",
   "execution_count": 34,
   "id": "648b09e3-9571-4a28-becb-ecd5fbe7826d",
   "metadata": {},
   "outputs": [],
   "source": [
    "trk_inputs = Input(shape=(maxNumTrks,nFeatures))\n",
    "masked_inputs = Masking(mask_value=0)(trk_inputs)\n",
    "tdd = masked_inputs\n",
    "\n",
    "for i, phi_nodes in enumerate(ppm_sizes_int):\n",
    "\n",
    "    tdd = TimeDistributed(Dense(phi_nodes,activation='linear'),name=\"Phi{}_Dense\".format(i))(tdd)\n",
    "    tdd = TimeDistributed(ReLU(),name=\"Phi{}_ReLU\".format(i))(tdd)\n",
    "\n",
    "# This is where the magic happens... sum up the track features!\n",
    "F = Mean(name=\"Mean\")(tdd)\n",
    "\n",
    "for j, F_nodes in enumerate(dense_sizes_int):\n",
    "\n",
    "    F = Dense(F_nodes, activation='linear', name=\"F{}_Dense\".format(j))(F)\n",
    "    F = ReLU(name=\"F{}_ReLU\".format(j))(F)\n",
    "\n",
    "output = Dense(nClasses, activation='softmax',name=\"Jet_class\")(F)\n",
    "dips_mean = Model(inputs=trk_inputs, outputs=output)"
   ]
  },
  {
   "cell_type": "code",
   "execution_count": 38,
   "id": "15438184-26b8-4ad7-927f-c14a7ef5b861",
   "metadata": {},
   "outputs": [
    {
     "name": "stdout",
     "output_type": "stream",
     "text": [
      "Epoch 1/5\n",
      "3125/3125 [==============================] - 10s 3ms/step - loss: 0.4955 - acc: 0.8298 - val_loss: 0.4679 - val_acc: 0.8388\n",
      "\n",
      "Epoch 00001: val_loss did not improve from 0.45426\n",
      "Epoch 2/5\n",
      "3125/3125 [==============================] - 9s 3ms/step - loss: 0.4651 - acc: 0.8389 - val_loss: 0.4581 - val_acc: 0.8416\n",
      "\n",
      "Epoch 00002: val_loss did not improve from 0.45426\n",
      "Epoch 3/5\n",
      "3125/3125 [==============================] - 9s 3ms/step - loss: 0.4579 - acc: 0.8409 - val_loss: 0.4554 - val_acc: 0.8420\n",
      "\n",
      "Epoch 00003: val_loss did not improve from 0.45426\n",
      "Epoch 4/5\n",
      "3125/3125 [==============================] - 9s 3ms/step - loss: 0.4543 - acc: 0.8420 - val_loss: 0.4599 - val_acc: 0.8414\n",
      "\n",
      "Epoch 00004: val_loss did not improve from 0.45426\n",
      "Epoch 5/5\n",
      "3125/3125 [==============================] - 9s 3ms/step - loss: 0.4517 - acc: 0.8429 - val_loss: 0.4519 - val_acc: 0.8434\n",
      "\n",
      "Epoch 00005: val_loss improved from 0.45426 to 0.45194, saving model to dips_weights.h5\n"
     ]
    }
   ],
   "source": [
    "dips_mean.compile(loss='categorical_crossentropy', optimizer='adam',\n",
    "                 metrics=['acc'])  \n",
    "\n",
    "dips_hist_mean = dips_mean.fit(X_train[:nTrain], y_train_cat[:nTrain], epochs=nEpochs, \n",
    "                     batch_size=128,validation_split=0.2,\n",
    "                     callbacks=[earlyStop, dips_mChkPt])"
   ]
  },
  {
   "cell_type": "markdown",
   "id": "55dd0aa6-8d6a-4c8d-991a-2a5bd5f1deb4",
   "metadata": {},
   "source": [
    "**Which of these 3 models is doing the best?** "
   ]
  },
  {
   "cell_type": "markdown",
   "id": "46f7f3fd-55aa-4c33-a6f6-ce0b08360b54",
   "metadata": {},
   "source": [
    "Initial check: Compare the loss curves."
   ]
  },
  {
   "cell_type": "code",
   "execution_count": 39,
   "id": "c3666096-f2c5-4443-8c81-d15a63203781",
   "metadata": {},
   "outputs": [
    {
     "data": {
      "image/png": "[encoded data removed]",
      "text/plain": [
       "<Figure size 432x288 with 1 Axes>"
      ]
     },
     "metadata": {
      "needs_background": "light"
     },
     "output_type": "display_data"
    }
   ],
   "source": [
    "epochs = np.arange(1,len(dips_hist.history['loss'])+1)\n",
    "\n",
    "\n",
    "for h,c,l in zip([dips_hist,dips_hist_max,dips_hist_mean],['C4','C2','C3'],['Sum','Max','Mean']):\n",
    "    plt.plot(epochs,h.history['loss'],color=c,label=f'{l} : train')\n",
    "    plt.plot(epochs,h.history['val_loss'],color=c,label=f'{l} : val',ls='--')\n",
    "    \n",
    "plt.xlabel('epochs',fontsize=14)\n",
    "plt.ylabel('cross-entropy loss',fontsize=14)\n",
    "plt.legend()\n",
    "plt.title('DIPS')\n",
    "\n",
    "plt.show()"
   ]
  },
  {
   "cell_type": "markdown",
   "id": "f4415c18-2ada-43d4-b4d7-4b65873a4311",
   "metadata": {},
   "source": [
    "Next: Compare the accuracy on the test set?"
   ]
  },
  {
   "cell_type": "code",
   "execution_count": 41,
   "id": "720f0bb5-d976-41e1-aa65-b4d2b6d0cb3d",
   "metadata": {},
   "outputs": [
    {
     "name": "stdout",
     "output_type": "stream",
     "text": [
      "7813/7813 [==============================] - 14s 2ms/step - loss: 0.4520 - acc: 0.8427\n"
     ]
    },
    {
     "data": {
      "text/plain": [
       "[0.45199814438819885, 0.842706024646759]"
      ]
     },
     "execution_count": 41,
     "metadata": {},
     "output_type": "execute_result"
    }
   ],
   "source": [
    "dips.evaluate(X_train[:nTest],y_train_cat[:nTest],batch_size=128)"
   ]
  },
  {
   "cell_type": "code",
   "execution_count": 42,
   "id": "17508eb8-1881-4de1-8513-157749faaf17",
   "metadata": {},
   "outputs": [
    {
     "name": "stdout",
     "output_type": "stream",
     "text": [
      "7813/7813 [==============================] - 13s 2ms/step - loss: 0.4610 - acc: 0.8396\n"
     ]
    },
    {
     "data": {
      "text/plain": [
       "[0.4610031247138977, 0.8396340012550354]"
      ]
     },
     "execution_count": 42,
     "metadata": {},
     "output_type": "execute_result"
    }
   ],
   "source": [
    "dips_max.evaluate(X_train[:nTest],y_train_cat[:nTest],batch_size=128)"
   ]
  },
  {
   "cell_type": "code",
   "execution_count": 40,
   "id": "37078754-e52a-45b6-998a-65ee72e6fd67",
   "metadata": {},
   "outputs": [
    {
     "name": "stdout",
     "output_type": "stream",
     "text": [
      "7813/7813 [==============================] - 14s 2ms/step - loss: 0.4498 - acc: 0.8434\n"
     ]
    },
    {
     "data": {
      "text/plain": [
       "[0.44984734058380127, 0.8433510065078735]"
      ]
     },
     "execution_count": 40,
     "metadata": {},
     "output_type": "execute_result"
    }
   ],
   "source": [
    "dips_mean.evaluate(X_train[:nTest],y_train_cat[:nTest],batch_size=128)"
   ]
  },
  {
   "cell_type": "markdown",
   "id": "a6278d68-ea98-43ec-9159-3aad7f364103",
   "metadata": {},
   "source": [
    "Finally, compare the roc curves on the test set?"
   ]
  },
  {
   "cell_type": "code",
   "execution_count": 43,
   "id": "f4389123-407a-484c-9962-792883f2f5f2",
   "metadata": {},
   "outputs": [
    {
     "name": "stdout",
     "output_type": "stream",
     "text": [
      "31250/31250 [==============================] - 23s 741us/step\n"
     ]
    },
    {
     "data": {
      "image/png": "[encoded data removed]",
      "text/plain": [
       "<Figure size 432x288 with 1 Axes>"
      ]
     },
     "metadata": {
      "needs_background": "light"
     },
     "output_type": "display_data"
    }
   ],
   "source": [
    "(leff_max, ceff_max, beff_max), d = sigBkgEff(dips_max, X_test[:nTest], y_test[:nTest], returnDisc=True,'Max pooling operation')"
   ]
  },
  {
   "cell_type": "code",
   "execution_count": 44,
   "id": "69c4c774-7345-4380-bf5a-6934a5f6af49",
   "metadata": {},
   "outputs": [
    {
     "name": "stdout",
     "output_type": "stream",
     "text": [
      "31250/31250 [==============================] - 23s 736us/step\n"
     ]
    },
    {
     "data": {
      "image/png": "[encoded data removed]",
      "text/plain": [
       "<Figure size 432x288 with 1 Axes>"
      ]
     },
     "metadata": {
      "needs_background": "light"
     },
     "output_type": "display_data"
    }
   ],
   "source": [
    "(leff_mean, ceff_mean, beff_mean), d = sigBkgEff(dips_mean, X_test[:nTest], y_test[:nTest], returnDisc=True,'Mean (avg) pooling operation')"
   ]
  },
  {
   "cell_type": "code",
   "execution_count": null,
   "id": "6d93b34c-7bb1-4fe7-a7fa-6d26a117ffe7",
   "metadata": {},
   "outputs": [],
   "source": []
  },
  {
   "cell_type": "code",
   "execution_count": 48,
   "id": "2ae93fdb-0f9a-4a76-953a-8052b7dde29e",
   "metadata": {},
   "outputs": [
    {
     "name": "stderr",
     "output_type": "stream",
     "text": [
      "<ipython-input-48-0230a8d8f9e9>:7: RuntimeWarning: divide by zero encountered in true_divide\n",
      "  plt.plot(bi, 1 / li, color=c, label=f'{l}: l-rej')\n",
      "<ipython-input-48-0230a8d8f9e9>:10: RuntimeWarning: divide by zero encountered in true_divide\n",
      "  plt.plot(bi, 1 / ci, color=c, linestyle='--', label=f'{l}: c-rej')\n",
      "<ipython-input-48-0230a8d8f9e9>:7: RuntimeWarning: divide by zero encountered in true_divide\n",
      "  plt.plot(bi, 1 / li, color=c, label=f'{l}: l-rej')\n",
      "<ipython-input-48-0230a8d8f9e9>:10: RuntimeWarning: divide by zero encountered in true_divide\n",
      "  plt.plot(bi, 1 / ci, color=c, linestyle='--', label=f'{l}: c-rej')\n",
      "<ipython-input-48-0230a8d8f9e9>:7: RuntimeWarning: divide by zero encountered in true_divide\n",
      "  plt.plot(bi, 1 / li, color=c, label=f'{l}: l-rej')\n",
      "<ipython-input-48-0230a8d8f9e9>:10: RuntimeWarning: divide by zero encountered in true_divide\n",
      "  plt.plot(bi, 1 / ci, color=c, linestyle='--', label=f'{l}: c-rej')\n",
      "<ipython-input-48-0230a8d8f9e9>:18: UserWarning: Attempted to set non-positive bottom ylim on a log-scaled axis.\n",
      "Invalid limit will be ignored.\n",
      "  plt.ylim(0,int(2e3))\n"
     ]
    },
    {
     "data": {
      "image/png": "[encoded data removed]",
      "text/plain": [
       "<Figure size 432x288 with 1 Axes>"
      ]
     },
     "metadata": {
      "needs_background": "light"
     },
     "output_type": "display_data"
    }
   ],
   "source": [
    "plt.figure()\n",
    "\n",
    "for bi,li,ci,c, l in zip([beff,beff_max,beff_mean],[leff,leff_max,leff_mean],\n",
    "                         [ceff,ceff_max,ceff_mean],['C4','C2','C3'],['Sum','Max','Mean']):\n",
    "\n",
    "    # l-rej\n",
    "    plt.plot(bi, 1 / li, color=c, label=f'{l}: l-rej')\n",
    "\n",
    "    # c-rej\n",
    "    plt.plot(bi, 1 / ci, color=c, linestyle='--', label=f'{l}: c-rej')\n",
    "plt.xlabel('b efficiency')\n",
    "plt.ylabel('Background rejection')\n",
    "\n",
    "plt.legend()\n",
    "#plt.title(title)\n",
    "plt.yscale(\"log\")\n",
    "plt.xlim(0.6,1)\n",
    "plt.ylim(0,int(2e3))\n",
    "\n",
    "plt.show()"
   ]
  },
  {
   "cell_type": "code",
   "execution_count": null,
   "id": "78142c2f-5a4b-404a-875f-657ba29b4054",
   "metadata": {},
   "outputs": [],
   "source": []
  },
  {
   "cell_type": "markdown",
   "id": "df48150b-9be9-4f40-80eb-745c709114cc",
   "metadata": {},
   "source": [
    "**Question:**\n",
    "- Why might this model be doing the best?\n",
    "- What feature might you be able to add to the `Mean` pooling operation to put physics information back in?"
   ]
  },
  {
   "cell_type": "code",
   "execution_count": null,
   "id": "0b34554b-22a2-4df2-bc9b-91eecc420418",
   "metadata": {},
   "outputs": [],
   "source": []
  },
  {
   "cell_type": "markdown",
   "id": "cea5dcbc-faf1-440e-9fc3-2d905a2b4306",
   "metadata": {},
   "source": [
    "Try adding `ntrks` as a feature to the Mean model and see if the performance is recovered"
   ]
  },
  {
   "cell_type": "markdown",
   "id": "ab43f7e8-2c9b-4287-aafb-0ec77969bc8a",
   "metadata": {},
   "source": [
    "How to calculate `ntrks`?\n",
    "\n",
    "\n",
    "Recall, the shape of X_train is (nJets, maxNumTrks, nFeatures) \n",
    "and for jets that have fewer than maxNumTrks tracks, the features\n",
    "for this \"blank\" track will all be \"padded with zeros.\n"
   ]
  },
  {
   "cell_type": "code",
   "execution_count": null,
   "id": "2c86e4cb-0357-4a3e-9d5a-2951e51866a8",
   "metadata": {},
   "outputs": [],
   "source": [
    "X_train.shape"
   ]
  },
  {
   "cell_type": "markdown",
   "id": "cadddd73-5122-4ea5-b73c-b8e388fa3532",
   "metadata": {},
   "source": [
    "Hint: Try using the np.any function to calculate the number of tracks for each jet in X_train"
   ]
  },
  {
   "cell_type": "code",
   "execution_count": 88,
   "id": "12eea6c7-a4cd-4222-9224-a8917a71f09d",
   "metadata": {},
   "outputs": [],
   "source": [
    "tmask = ~np.all(X_train==0, axis=-1) # False for a padded track\n",
    "\n",
    "ntrks = np.sum(tmask,axis=1)"
   ]
  },
  {
   "cell_type": "code",
   "execution_count": 77,
   "id": "3a08fa01-d502-4696-b1b6-6cfdf0a6bb70",
   "metadata": {},
   "outputs": [
    {
     "data": {
      "text/plain": [
       "array([6, 5, 9, ..., 9, 4, 9])"
      ]
     },
     "execution_count": 77,
     "metadata": {},
     "output_type": "execute_result"
    }
   ],
   "source": [
    "ntrks"
   ]
  },
  {
   "cell_type": "code",
   "execution_count": 78,
   "id": "ac84eabc-453a-4637-a415-abb90528734b",
   "metadata": {},
   "outputs": [
    {
     "data": {
      "image/png": "[encoded data removed]",
      "text/plain": [
       "<Figure size 432x288 with 1 Axes>"
      ]
     },
     "metadata": {
      "needs_background": "light"
     },
     "output_type": "display_data"
    }
   ],
   "source": [
    "plt.hist(ntrks[y_train==0],26,(-0.5,25.5),histtype='step',lw=4,label='l-jets',density=True)\n",
    "plt.hist(ntrks[y_train==1],26,(-0.5,25.5),histtype='step',lw=4,label='c-jets',density=True)\n",
    "plt.hist(ntrks[y_train==2],26,(-0.5,25.5),histtype='step',lw=4,label='b-jets',density=True)\n",
    "\n",
    "plt.xlabel('# of tracks')\n",
    "plt.ylabel('Normalized entries')\n",
    "plt.legend()\n",
    "plt.show()"
   ]
  },
  {
   "cell_type": "code",
   "execution_count": 83,
   "id": "990a2920-7339-4e45-a69d-800f8620d1df",
   "metadata": {},
   "outputs": [
    {
     "data": {
      "text/plain": [
       "(2865138,)"
      ]
     },
     "execution_count": 83,
     "metadata": {},
     "output_type": "execute_result"
    }
   ],
   "source": [
    "ntrks.shape"
   ]
  },
  {
   "cell_type": "code",
   "execution_count": 72,
   "id": "90c92789-86af-4b38-86cc-5c067f85d517",
   "metadata": {},
   "outputs": [
    {
     "data": {
      "text/plain": [
       "(2865138, 25, 15)"
      ]
     },
     "execution_count": 72,
     "metadata": {},
     "output_type": "execute_result"
    }
   ],
   "source": [
    "X_train.shape"
   ]
  },
  {
   "cell_type": "code",
   "execution_count": 90,
   "id": "763f23bd-6f48-46e9-982c-a93a06618458",
   "metadata": {},
   "outputs": [],
   "source": [
    "# Broadcast the # of tracks in the jet across the track features\n",
    "ntrks_broad = np.vstack([ntrks]*maxNumTrks).T\n",
    "\n",
    "# But need to mask it\n",
    "ntrks_broad = ntrks_broad * tmask"
   ]
  },
  {
   "cell_type": "code",
   "execution_count": 93,
   "id": "a3b1d8b5-19de-4de4-a0d2-73f6aad23eec",
   "metadata": {},
   "outputs": [
    {
     "data": {
      "text/plain": [
       "(2865138, 25, 16)"
      ]
     },
     "execution_count": 93,
     "metadata": {},
     "output_type": "execute_result"
    }
   ],
   "source": [
    "X_train_exp = np.dstack([X_train, ntrks_broad])\n",
    "\n",
    "X_train_exp.shape"
   ]
  },
  {
   "cell_type": "code",
   "execution_count": 94,
   "id": "3f99e24c-4b43-4bc4-b1ba-e96d505c1141",
   "metadata": {},
   "outputs": [],
   "source": [
    "trk_inputs = Input(shape=(maxNumTrks,nFeatures+1))\n",
    "masked_inputs = Masking(mask_value=0)(trk_inputs)\n",
    "tdd = masked_inputs\n",
    "\n",
    "for i, phi_nodes in enumerate(ppm_sizes_int):\n",
    "\n",
    "    tdd = TimeDistributed(Dense(phi_nodes,activation='linear'),name=\"Phi{}_Dense\".format(i))(tdd)\n",
    "    tdd = TimeDistributed(ReLU(),name=\"Phi{}_ReLU\".format(i))(tdd)\n",
    "\n",
    "# This is where the magic happens... sum up the track features!\n",
    "F = Mean(name=\"Mean\")(tdd)\n",
    "\n",
    "for j, F_nodes in enumerate(dense_sizes_int):\n",
    "\n",
    "    F = Dense(F_nodes, activation='linear', name=\"F{}_Dense\".format(j))(F)\n",
    "    F = ReLU(name=\"F{}_ReLU\".format(j))(F)\n",
    "\n",
    "output = Dense(nClasses, activation='softmax',name=\"Jet_class\")(F)\n",
    "dips_exp = Model(inputs=trk_inputs, outputs=output)"
   ]
  },
  {
   "cell_type": "code",
   "execution_count": null,
   "id": "extended-lafayette",
   "metadata": {},
   "outputs": [],
   "source": []
  },
  {
   "cell_type": "markdown",
   "id": "b53cd543-cfc2-4290-afc2-6627f98c49b9",
   "metadata": {},
   "source": [
    "**Step 5 (bonus):** Vizualizations [if time permits]\n",
    "\n",
    "A fun metric to look at is _saliency maps_"
   ]
  },
  {
   "cell_type": "code",
   "execution_count": null,
   "id": "e15d6f4f-41a1-477f-94e9-96b32b656073",
   "metadata": {},
   "outputs": [],
   "source": []
  },
  {
   "cell_type": "code",
   "execution_count": null,
   "id": "75d098f0-ae67-4c42-9c89-3f52898e3c23",
   "metadata": {},
   "outputs": [],
   "source": []
  },
  {
   "cell_type": "code",
   "execution_count": null,
   "id": "1609bc02-842e-4798-a563-c5041a6aa66f",
   "metadata": {},
   "outputs": [],
   "source": []
  },
  {
   "cell_type": "code",
   "execution_count": null,
   "id": "897647a5-d908-4bbb-b5ba-f712502a03eb",
   "metadata": {},
   "outputs": [],
   "source": []
  },
  {
   "cell_type": "code",
   "execution_count": null,
   "id": "53640911-fd89-4352-9332-af265804e9dd",
   "metadata": {},
   "outputs": [],
   "source": []
  },
  {
   "cell_type": "code",
   "execution_count": null,
   "id": "bef3d7db-67f7-4136-9d71-634d5624f290",
   "metadata": {},
   "outputs": [],
   "source": []
  }
 ],
 "metadata": {
  "kernelspec": {
   "display_name": "Python 3",
   "language": "python",
   "name": "python3"
  },
  "language_info": {
   "codemirror_mode": {
    "name": "ipython",
    "version": 3
   },
   "file_extension": ".py",
   "mimetype": "text/x-python",
   "name": "python",
   "nbconvert_exporter": "python",
   "pygments_lexer": "ipython3",
   "version": "3.8.12"
  }
 },
 "nbformat": 4,
 "nbformat_minor": 5
}
